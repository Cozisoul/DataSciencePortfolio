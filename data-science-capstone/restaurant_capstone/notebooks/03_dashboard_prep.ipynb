{
 "cells": [
  {
   "cell_type": "code",
   "execution_count": 1,
   "id": "96a10ccc",
   "metadata": {},
   "outputs": [],
   "source": [
    "import pandas as pd\n",
    "\n",
    "# Load your cleaned data\n",
    "df = pd.read_csv('../data/processed/cleaned_data.csv')\n",
    "\n",
    "# Remove missing cuisines\n",
    "df = df.dropna(subset=['cuisines'])\n",
    "\n",
    "# Explode the cuisines column\n",
    "df['cuisine_individual'] = df['cuisines'].str.split(', ')\n",
    "df_exploded = df.explode('cuisine_individual')\n",
    "\n",
    "# Optional: Standardize case/spacing\n",
    "df_exploded['cuisine_individual'] = df_exploded['cuisine_individual'].str.strip().str.title()\n",
    "\n",
    "# Save this exploded dataset for Tableau\n",
    "df_exploded.to_csv('../data/processed/cleaned_data_cuisine_exploded.csv', index=False)"
   ]
  }
 ],
 "metadata": {
  "kernelspec": {
   "display_name": "restaurant_ds",
   "language": "python",
   "name": "python3"
  },
  "language_info": {
   "codemirror_mode": {
    "name": "ipython",
    "version": 3
   },
   "file_extension": ".py",
   "mimetype": "text/x-python",
   "name": "python",
   "nbconvert_exporter": "python",
   "pygments_lexer": "ipython3",
   "version": "3.10.18"
  }
 },
 "nbformat": 4,
 "nbformat_minor": 5
}
