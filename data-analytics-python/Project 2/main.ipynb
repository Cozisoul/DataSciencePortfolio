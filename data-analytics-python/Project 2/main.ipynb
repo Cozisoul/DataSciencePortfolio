{
 "cells": [
  {
   "cell_type": "markdown",
   "id": "fd75ee27",
   "metadata": {},
   "source": [
    "Imports"
   ]
  },
  {
   "cell_type": "code",
   "execution_count": null,
   "id": "a32c0bc1",
   "metadata": {},
   "outputs": [],
   "source": [
    "import car_rental\n",
    "import datetime"
   ]
  },
  {
   "cell_type": "code",
   "execution_count": null,
   "id": "10dd729d",
   "metadata": {},
   "outputs": [],
   "source": [
    "rental_company = car_rental.CarRental()\n",
    "rental_company.display_available_cars() "
   ]
  },
  {
   "cell_type": "code",
   "execution_count": null,
   "id": "e5024846",
   "metadata": {},
   "outputs": [],
   "source": [
    "customer = car_rental.Customer()"
   ]
  },
  {
   "cell_type": "markdown",
   "id": "4d95649f",
   "metadata": {},
   "source": [
    "## main() Function"
   ]
  },
  {
   "cell_type": "code",
   "execution_count": 1,
   "id": "fd2215a4",
   "metadata": {},
   "outputs": [
    {
     "name": "stdout",
     "output_type": "stream",
     "text": [
      "Welcome to the Online Car Rental Platform!\n",
      "\n",
      "\n",
      "===== MENU =====\n",
      "1. Display available cars\n",
      "2. Rent car(s) hourly\n",
      "3. Rent car(s) daily\n",
      "4. Rent car(s) weekly\n",
      "5. Return car(s)\n",
      "6. Exit\n",
      "Rental successful! 2 car(s) rented on an hourly basis.\n",
      "\n",
      "===== MENU =====\n",
      "1. Display available cars\n",
      "2. Rent car(s) hourly\n",
      "3. Rent car(s) daily\n",
      "4. Rent car(s) weekly\n",
      "5. Return car(s)\n",
      "6. Exit\n",
      "Thank you for returning the car(s). Your total bill is: R0.03\n",
      "\n",
      "===== MENU =====\n",
      "1. Display available cars\n",
      "2. Rent car(s) hourly\n",
      "3. Rent car(s) daily\n",
      "4. Rent car(s) weekly\n",
      "5. Return car(s)\n",
      "6. Exit\n",
      "Thank you for using the Online Car Rental Platform. Goodbye!\n"
     ]
    }
   ],
   "source": [
    "from car_rental import CarRental, Customer\n",
    "\n",
    "def main():\n",
    " print(\"Welcome to the Online Car Rental Platform!\\n\")\n",
    " # Initialize car rental shop and customer\n",
    " rental_shop = CarRental(available_cars=20)\n",
    " name = input(\"To get started, please enter your full name: \")\n",
    " customer = Customer(name=name)\n",
    "\n",
    " while True:\n",
    "     print(\"\\n===== MENU =====\")\n",
    "     print(\"1. Display available cars\")\n",
    "     print(\"2. Rent car(s) hourly\")\n",
    "     print(\"3. Rent car(s) daily\")\n",
    "     print(\"4. Rent car(s) weekly\")\n",
    "     print(\"5. Return car(s)\")\n",
    "     print(\"6. Exit\")\n",
    "\n",
    "     choice = input(\"Enter your choice (1-6): \").strip()\n",
    "\n",
    "    #choice =  b         \n",
    "            \n",
    "     if choice == '1':\n",
    "         rental_shop.display_available_cars()\n",
    "\n",
    "     elif choice == '2':\n",
    "         try:\n",
    "             num = int(input(\"How many cars would you like to rent hourly? \"))\n",
    "             result = customer.request_car(rental_shop, \"hourly\", num)\n",
    "             if isinstance(result, str):\n",
    "                 print(result)\n",
    "             else:\n",
    "                 print(f\"Rental successful! {num} car(s) rented on an hourly basis.\")\n",
    "         except ValueError:\n",
    "             print(\"Please enter a valid number.\")\n",
    "\n",
    "     elif choice == '3':\n",
    "         try:\n",
    "             num = int(input(\"How many cars would you like to rent daily? \"))\n",
    "             result = customer.request_car(rental_shop, \"daily\", num)\n",
    "             if isinstance(result, str):\n",
    "                 print(result)\n",
    "             else:\n",
    "                 print(f\"Rental successful! {num} car(s) rented on a daily basis.\")\n",
    "         except ValueError:\n",
    "             print(\"Please enter a valid number.\")\n",
    "\n",
    "     elif choice == '4':\n",
    "         try:\n",
    "             num = int(input(\"How many cars would you like to rent weekly? \"))\n",
    "             result = customer.request_car(rental_shop, \"weekly\", num)\n",
    "             if isinstance(result, str):\n",
    "                 print(result)\n",
    "             else:\n",
    "                 print(f\"Rental successful! {num} car(s) rented on a weekly basis.\")\n",
    "         except ValueError:\n",
    "             print(\"Please enter a valid number.\")\n",
    "\n",
    "     elif choice == '5':\n",
    "         bill = customer.return_car(rental_shop)\n",
    "         if isinstance(bill, str):\n",
    "             print(bill)\n",
    "         elif bill is not None:\n",
    "             print(f\"Thank you for returning the car(s). Your total bill is: R{bill:.2f}\")\n",
    "\n",
    "     elif choice == '6':\n",
    "         print(\"Thank you for using the Online Car Rental Platform. Goodbye!\")\n",
    "         break\n",
    "\n",
    "     else:\n",
    "         print(\"Invalid option. Please select from 1 to 6.\")\n",
    "\n",
    "if __name__ == \"__main__\":\n",
    " main()"
   ]
  }
 ],
 "metadata": {
  "kernelspec": {
   "display_name": "Python 3",
   "language": "python",
   "name": "python3"
  },
  "language_info": {
   "codemirror_mode": {
    "name": "ipython",
    "version": 3
   },
   "file_extension": ".py",
   "mimetype": "text/x-python",
   "name": "python",
   "nbconvert_exporter": "python",
   "pygments_lexer": "ipython3",
   "version": "3.13.3"
  }
 },
 "nbformat": 4,
 "nbformat_minor": 5
}
